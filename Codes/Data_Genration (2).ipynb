{
  "cells": [
    {
      "cell_type": "code",
      "source": [
        "!pip install together"
      ],
      "metadata": {
        "id": "zP8jL4LwSvaM"
      },
      "execution_count": null,
      "outputs": []
    },
    {
      "cell_type": "code",
      "source": [
        "import pandas as pd\n",
        "import numpy as np"
      ],
      "metadata": {
        "id": "m7CcejWTqURL"
      },
      "execution_count": null,
      "outputs": []
    },
    {
      "cell_type": "code",
      "source": [
        "api_key = \"\" # place your api key from together ai `https://api.together.ai/settings/api-keys`  you will get $5 of free credit\n",
        "\n",
        "model = \"meta-llama/Meta-Llama-3.1-70B-Instruct-Turbo\"   # choose the llm model for which you want to genrate the dataset `https://api.together.ai/models`\n",
        "            # for example \"meta-llama/Meta-Llama-3.1-8B-Instruct-Turbo\""
      ],
      "metadata": {
        "id": "xXT7WnO_ljBz"
      },
      "execution_count": null,
      "outputs": []
    },
    {
      "cell_type": "code",
      "source": [
        "import os\n",
        "from together import Together\n",
        "api_key = \"\"  # place your api key from together ai `https://api.together.ai/settings/api-keys`  you will get $5 of free credit\n",
        "client = Together(api_key=api_key)\n",
        "\n",
        "stream = client.chat.completions.create(\n",
        "  model=model,\n",
        "  messages=[{\"role\": \"user\", \"content\": \"what can you do?\"}],\n",
        "  stream=True,\n",
        ")\n",
        "\n",
        "for chunk in stream:\n",
        "  print(chunk.choices[0].delta.content or \"\", end=\"\", flush=True)"
      ],
      "metadata": {
        "id": "OiV8PMdRSuro"
      },
      "execution_count": null,
      "outputs": []
    },
    {
      "cell_type": "code",
      "source": [
        "from together import Together"
      ],
      "metadata": {
        "id": "bOWXDE76c48j"
      },
      "execution_count": null,
      "outputs": []
    },
    {
      "cell_type": "markdown",
      "source": [
        "Checking whether the model is working or not\n",
        "\n",
        "---\n",
        "\n"
      ],
      "metadata": {
        "id": "OEOM8o8ppqDN"
      }
    },
    {
      "cell_type": "code",
      "source": [
        "def llama_run(question, context):\n",
        "    client = Together(api_key=api_key)\n",
        "\n",
        "    formatted_prompt = f\"whtat is {question} in this context: {context}\"\n",
        "\n",
        "    try:\n",
        "        stream = client.chat.completions.create(\n",
        "            model=model,\n",
        "            temperature=.2,\n",
        "            max_tokens=512,\n",
        "            top_p=1,\n",
        "            top_k=40,\n",
        "            messages=[{\"role\": \"user\", \"content\": formatted_prompt}],\n",
        "            stream=True,\n",
        "        )\n",
        "\n",
        "        response = \"\"\n",
        "        for chunk in stream:\n",
        "            response_chunk = chunk.choices[0].delta.content or \"\"\n",
        "            response += response_chunk\n",
        "\n",
        "        return response\n",
        "\n",
        "\n",
        "    except Exception as e:\n",
        "        print(f\"An error occurred: {e}\")\n",
        "        # Handle the error appropriately, maybe log it or return an error message"
      ],
      "metadata": {
        "id": "pTl9EvYi-ZMY"
      },
      "execution_count": null,
      "outputs": []
    },
    {
      "cell_type": "code",
      "source": [
        "llama_run(\"why it is a capital?\", \"the capital of india is new delhi\")"
      ],
      "metadata": {
        "colab": {
          "base_uri": "https://localhost:8080/",
          "height": 140
        },
        "id": "HOOMNh_qCkb2",
        "outputId": "b2d3781c-9217-4996-c497-d30853a24562"
      },
      "execution_count": null,
      "outputs": [
        {
          "output_type": "execute_result",
          "data": {
            "text/plain": [
              "'In the context of \"The capital of India is New Delhi,\" the word \"capital\" refers to the primary city or town of a country, state, or region that serves as the seat of government, administration, and often the center of politics, economy, and culture.\\n\\nIn this case, New Delhi is the capital of India because it is the city where the country\\'s central government is located, and it is the seat of the Indian Parliament, the President of India, and various government ministries and departments.\\n\\nThere are several reasons why a city is designated as the capital:\\n\\n1. **Seat of government**: The capital is where the government is located, and it is the center of decision-making and policy implementation.\\n2. **Administrative center**: The capital is often the hub of administrative activities, with various government departments, ministries, and agencies located there.\\n3. **Symbolic significance**: The capital is often seen as a symbol of national identity and unity, representing the country\\'s history, culture, and values.\\n4. **Economic center**: The capital is often a major economic hub, with a high concentration of businesses, industries, and financial institutions.\\n5. **Strategic location**: The capital is often located in a strategic position, such as near a major transportation hub, a port, or a border.\\n\\nIn the case of New Delhi, it was chosen as the capital of India in 1911 by the British colonial government, and it has remained the capital since India gained independence in 1947.'"
            ],
            "application/vnd.google.colaboratory.intrinsic+json": {
              "type": "string"
            }
          },
          "metadata": {},
          "execution_count": 13
        }
      ]
    },
    {
      "cell_type": "code",
      "source": [],
      "metadata": {
        "id": "nivTLEELiHzx"
      },
      "execution_count": null,
      "outputs": []
    }
  ],
  "metadata": {
    "colab": {
      "provenance": []
    },
    "kernelspec": {
      "display_name": "Python 3",
      "name": "python3"
    },
    "language_info": {
      "name": "python"
    }
  },
  "nbformat": 4,
  "nbformat_minor": 0
}